{
 "cells": [
  {
   "cell_type": "markdown",
   "id": "e55ebb43",
   "metadata": {},
   "source": [
    "## L2D Assignment - Data Handling 1:"
   ]
  },
  {
   "cell_type": "markdown",
   "id": "a49d1f7a",
   "metadata": {},
   "source": [
    "This notebook contains your assignment questions for the Data Handling 3 lesson. Please attempt and complete all questions. The topics this assignment will assess are:\n",
    "\n",
    "1. Image Handling\n",
    "\n",
    "\n",
    "When you have completed your assignment, please commit the changes to your GitHub repository's 'Assignments' folder, as instructed in the [Assignments section](https://learntodiscover.github.io/L2D-Handbook/section7.html) of the [L2D Handbok](https://learntodiscover.github.io/L2D-Handbook).\n"
   ]
  },
  {
   "cell_type": "markdown",
   "id": "35c63c2c",
   "metadata": {},
   "source": [
    "### Image Handling"
   ]
  },
  {
   "cell_type": "markdown",
   "id": "2a121f5e-051a-4a73-bfc6-ef92c8ca6cc7",
   "metadata": {},
   "source": [
    "Using the image \"rat_cerebellum.jpg\" from the [Data](./Data/) folder, do the following tasks:"
   ]
  },
  {
   "cell_type": "markdown",
   "id": "9d538711",
   "metadata": {},
   "source": [
    "1. Import the image and display it."
   ]
  },
  {
   "cell_type": "code",
   "execution_count": null,
   "id": "94028a14",
   "metadata": {},
   "outputs": [],
   "source": []
  },
  {
   "cell_type": "markdown",
   "id": "7e79f2fb-db11-45e6-98aa-acb7d6f6cd7d",
   "metadata": {},
   "source": [
    "2. Show histograms of each of the colour channels and plot the contributions of each of the RGB colours separately."
   ]
  },
  {
   "cell_type": "code",
   "execution_count": null,
   "id": "1879ef73-6c55-4cc9-9720-8c707d067098",
   "metadata": {},
   "outputs": [],
   "source": [
    "\n"
   ]
  },
  {
   "cell_type": "markdown",
   "id": "8fb2a9d7",
   "metadata": {},
   "source": [
    "3. Create three different binary masks using manually determined thresholds: one for mostly red pixels, one for mostly green pixels, and one for mostly blue pixels. Note that you can apply conditions that are either greater than or smaller than a threshold of your choice."
   ]
  },
  {
   "cell_type": "code",
   "execution_count": null,
   "id": "eec5ba18",
   "metadata": {},
   "outputs": [],
   "source": []
  },
  {
   "cell_type": "markdown",
   "id": "1c4b5ad8",
   "metadata": {},
   "source": [
    "4. Plot the three masks and the corresponding masked images."
   ]
  },
  {
   "cell_type": "code",
   "execution_count": null,
   "id": "ccb5b9f8",
   "metadata": {},
   "outputs": [],
   "source": []
  },
  {
   "cell_type": "markdown",
   "id": "dd176cc5",
   "metadata": {},
   "source": [
    "5. Using your masks, approximate the relative amounts of synaptophysin, IP3R, and DNA in the image. To do this, you can assume that the number of red pixels represents synaptophysin, green pixels represents IP3R and blue pixels represent DNA. The results will vary depending on the setting of the thresholds. How do different threshold values change your results?"
   ]
  },
  {
   "cell_type": "code",
   "execution_count": null,
   "id": "c89936f5",
   "metadata": {},
   "outputs": [],
   "source": []
  },
  {
   "cell_type": "markdown",
   "id": "6474bf5c",
   "metadata": {},
   "source": [
    "6. Change the resolution of your image to different values. How does the resolution affect your results?\n"
   ]
  },
  {
   "cell_type": "code",
   "execution_count": null,
   "id": "51f7125f",
   "metadata": {},
   "outputs": [],
   "source": []
  }
 ],
 "metadata": {
  "kernelspec": {
   "display_name": "Python 3 (ipykernel)",
   "language": "python",
   "name": "python3"
  },
  "language_info": {
   "codemirror_mode": {
    "name": "ipython",
    "version": 3
   },
   "file_extension": ".py",
   "mimetype": "text/x-python",
   "name": "python",
   "nbconvert_exporter": "python",
   "pygments_lexer": "ipython3",
   "version": "3.12.4"
  }
 },
 "nbformat": 4,
 "nbformat_minor": 5
}
